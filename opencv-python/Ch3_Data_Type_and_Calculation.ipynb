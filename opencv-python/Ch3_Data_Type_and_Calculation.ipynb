{
 "cells": [
  {
   "cell_type": "markdown",
   "metadata": {},
   "source": [
    "# Chapter 3. 데이터 타입과 연산\n",
    "\n",
    " __C# OpenCvSharp__\n",
    "\n",
    "- .NET 프레임워크 기반 언어에서 OpenCV 사용할 수 있게 만든 크로스 플랫폼 라이브러리 (C/C++ 스타일 기반)\n",
    "  \n",
    "- 데이터 타입 : 벡터, 포인트, 스칼라 등의 서로 다른 구조체\n",
    "  \n",
    "\n",
    "__Python OpenCV__\n",
    "  - 파이썬을 기반으로 제작된 라이브러리\n",
    "  \n",
    "  - 데이터 타입 : 기본형 자료형, Numpy\n",
    "\n",
    "----\n",
    "\n",
    "## 1. 기본 데이터 타입 (Python OpenCV)\n",
    "\n",
    "\n",
    "### 리스트(List) 자료형\n",
    "- Python에서 가장 많이 쓰이는 자료형으로 `[대괄호]` 를 이용해 표현  \n",
    "\n",
    "\n",
    "- 리스트의 특징\n",
    "  - __Container__ : 데이터의 종류와 무관하게 값을 저장 가능\n",
    "  - __Mutable__ : 변경 가능함 (값 생성, 추가, 삭제, 변경 등)\n",
    "  - __Sequence__ : 순서가 있음 -> index 를 통해 값에 접근 가능"
   ]
  },
  {
   "cell_type": "code",
   "execution_count": 1,
   "metadata": {},
   "outputs": [
    {
     "data": {
      "text/plain": [
       "-1"
      ]
     },
     "execution_count": 1,
     "metadata": {},
     "output_type": "execute_result"
    }
   ],
   "source": [
    "# 리스트 사용 예시\n",
    "import numpy as np\n",
    "import cv2\n",
    "\n",
    "\n",
    "src = cv2.imread(\"OpenCV_Logo.png\", 0)\n",
    "\n",
    "dsize = [cv2.THRESH_BINARY, cv2.THRESH_BINARY_INV, cv2.THRESH_OTSU]  # Container (어떤 타입도 저장 가능)\n",
    "img = [None] * len(dsize)\n",
    "\n",
    "for i in range(len(dsize)):\n",
    "    ret, img[i] = cv2.threshold(src, 100, 255, dsize[i])   # Mutable (리스트 요소 변경)\n",
    "\n",
    "cv2.imshow(\"img_0\", img[0])  # Sequence (index 활용)\n",
    "\n",
    "\n",
    "cv2.waitKey(0)"
   ]
  },
  {
   "cell_type": "markdown",
   "metadata": {},
   "source": [
    "![image](https://user-images.githubusercontent.com/84179578/135885639-7218a9bc-c469-4e42-9ee1-7e58f89b0d3b.png)"
   ]
  },
  {
   "cell_type": "markdown",
   "metadata": {},
   "source": [
    "### 튜플(Tuple) 자료형\n",
    "\n",
    "- `(소괄호)` 를 이용해 표현  \n",
    "  \n",
    "\n",
    "- 튜플의 특징\n",
    "  - __Contatiner__\n",
    "  - __Immutable__ : 변경 불가\n",
    "  - __Sequence__"
   ]
  },
  {
   "cell_type": "code",
   "execution_count": 2,
   "metadata": {},
   "outputs": [
    {
     "data": {
      "text/plain": [
       "-1"
      ]
     },
     "execution_count": 2,
     "metadata": {},
     "output_type": "execute_result"
    }
   ],
   "source": [
    "# 튜플 사용 예시\n",
    "\n",
    "img = cv2.imread(\"OpenCV_Logo.png\")\n",
    "\n",
    "center = [100, 100]\n",
    "red = (0, 0, 255)    # 빨간색의 RGB 값은 고정이므로 튜플 사용\n",
    "\n",
    "cv2.circle(img, tuple(center), 30, red, 3)   # 중심점은 항상 튜플 형태로\n",
    "\n",
    "\n",
    "cv2.imshow(\"img\", img)\n",
    "cv2.waitKey(0)"
   ]
  },
  {
   "cell_type": "markdown",
   "metadata": {},
   "source": [
    "`cv2.circle()` 은 이미지 위에 원을 그리는 함수로, 매개변수에 이미지, 튜플, 상수 등을 사용  \n",
    "`cv2.circle()` 함수의 중심점을 나타내는 매개변수를 튜플 형식으로 전달하지 않으면 에러 발생"
   ]
  },
  {
   "cell_type": "markdown",
   "metadata": {},
   "source": [
    "![image](https://user-images.githubusercontent.com/84179578/135885823-37656155-e2a8-49cd-abef-b7cceb668728.png)"
   ]
  },
  {
   "cell_type": "markdown",
   "metadata": {},
   "source": [
    "### 사전(Dictionary) 자료형\n",
    "- 키(key)와 값(value)으로 구성된 자료형으로 `{중괄호}` 와 콜론 `:` 으로 선언  \n",
    "  \n",
    "\n",
    "- 딕셔너리의 특징\n",
    "  - __Container__\n",
    "  - __Mutable__\n",
    "  - __Mapping__ : 순서를 고려하지 않음\n",
    "  - 키를 통해 값을 불러오는 형태 -> 키는 중복 불가능, 값은 중복 가능"
   ]
  },
  {
   "cell_type": "code",
   "execution_count": 4,
   "metadata": {},
   "outputs": [
    {
     "data": {
      "text/plain": [
       "-1"
      ]
     },
     "execution_count": 4,
     "metadata": {},
     "output_type": "execute_result"
    }
   ],
   "source": [
    "# 사전 사용 예시\n",
    "\n",
    "img = cv2.imread(\"tomato.jpg\")\n",
    "\n",
    "Color_Code = {\n",
    "    \"yellow\" : [(20, 100, 100), (33, 255, 255)],\n",
    "    \"green\" : [(41, 100, 100), (70, 255, 255)],\n",
    "    \"blue\" : [(90, 100, 100), (150, 100, 255)]\n",
    "    }\n",
    "\n",
    "result = cv2.inRange(img, Color_Code['yellow'][0], Color_Code['yellow'][1])\n",
    "\n",
    "# 실행을 위한 추가 코드\n",
    "cv2.imshow(\"result\", result)\n",
    "cv2.waitKey(0)"
   ]
  },
  {
   "cell_type": "markdown",
   "metadata": {},
   "source": [
    "배열 요소의 특정 범위를 설정해 범위 내의 값만 반환하는 함수 `cv2.inRange()` 는 매개 변수로 이미지(numpy 배열) 과 튜플 형식만 받음  \n",
    "사전 자료형을 활용하여 임곗값 범위를 이름으로 지정하여 사용 가능 -> 가독성 좋음\n",
    "\n",
    "![image](https://user-images.githubusercontent.com/84179578/135889172-389702ca-1800-47b8-be46-5684374d39ad.png)"
   ]
  },
  {
   "cell_type": "markdown",
   "metadata": {},
   "source": [
    "### 집합(Set) 자료형\n",
    "- 집합 연산을 쉽게 처리하기 위해 사용하는 자료형  \n",
    "  \n",
    "\n",
    "- 사전(dictionary) 와 동일하게 `{중괄호}`를 사용하지만 값만 지정  \n",
    "  \n",
    "\n",
    "- 집합 특징\n",
    "  - __Container__\n",
    "  - __Mutable__\n",
    "  - __Set__ : 중복 불가능하며, 순서에 영향받지 않음"
   ]
  },
  {
   "cell_type": "code",
   "execution_count": 5,
   "metadata": {},
   "outputs": [
    {
     "name": "stdout",
     "output_type": "stream",
     "text": [
      "{(210, 250), (50, 0), (170, 180), (170, 170)}\n",
      "{(50, 0), (210, 250)}\n",
      "{(170, 180)}\n"
     ]
    }
   ],
   "source": [
    "# 집합 사용 예시\n",
    "\n",
    "pt1 = [(50, 0), (170, 180), (210, 250)]\n",
    "pt2 = [(50, 0), (170, 170), (210, 250)]\n",
    "\n",
    "union = set(pt1) | set(pt2)\t   # 합집합\n",
    "intersection = set(pt1) & set(pt2)    # 교집합\n",
    "difference = set(pt1) - set(pt2)    # 차집합\n",
    "\n",
    "print(union)\n",
    "print(intersection)\n",
    "print(difference)"
   ]
  },
  {
   "cell_type": "code",
   "execution_count": null,
   "metadata": {},
   "outputs": [],
   "source": []
  }
 ],
 "metadata": {
  "kernelspec": {
   "display_name": "Python 3",
   "language": "python",
   "name": "python3"
  },
  "language_info": {
   "codemirror_mode": {
    "name": "ipython",
    "version": 3
   },
   "file_extension": ".py",
   "mimetype": "text/x-python",
   "name": "python",
   "nbconvert_exporter": "python",
   "pygments_lexer": "ipython3",
   "version": "3.8.5"
  }
 },
 "nbformat": 4,
 "nbformat_minor": 4
}
